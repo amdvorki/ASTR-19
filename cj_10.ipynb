{
  "nbformat": 4,
  "nbformat_minor": 0,
  "metadata": {
    "colab": {
      "name": "cj-10.ipynb",
      "provenance": []
    },
    "kernelspec": {
      "name": "python3",
      "display_name": "Python 3"
    },
    "language_info": {
      "name": "python"
    }
  },
  "cells": [
    {
      "cell_type": "code",
      "execution_count": 46,
      "metadata": {
        "id": "SKsU8K5xCUkh"
      },
      "outputs": [],
      "source": [
        "import matplotlib\n",
        "import matplotlib.pyplot as plt\n",
        "import math\n",
        "import numpy"
      ]
    },
    {
      "cell_type": "code",
      "source": [
        "def getGamma():\n",
        "  x = []\n",
        "  for counter in range (0,1000):\n",
        "    x.append(numpy.random.standard_gamma(1))\n",
        "  return x"
      ],
      "metadata": {
        "id": "4ZPN2FlaE-n8"
      },
      "execution_count": 54,
      "outputs": []
    },
    {
      "cell_type": "code",
      "source": [
        "x = getGamma();\n",
        "\n",
        "plt.hist(x,1000)\n",
        "plt.xlabel(\"Bins\")\n",
        "plt.ylabel(\"Number of values\")\n",
        "\n",
        "plt.savefig(\"cj_10.pdf\")"
      ],
      "metadata": {
        "colab": {
          "base_uri": "https://localhost:8080/",
          "height": 279
        },
        "id": "EVjMR3nJFWMR",
        "outputId": "632ec757-5391-47ce-9266-ecf480f63d51"
      },
      "execution_count": 56,
      "outputs": [
        {
          "output_type": "display_data",
          "data": {
            "text/plain": [
              "<Figure size 432x288 with 1 Axes>"
            ],
            "image/png": "[encoded data removed]"
          },
          "metadata": {
            "needs_background": "light"
          }
        }
      ]
    }
  ]
}