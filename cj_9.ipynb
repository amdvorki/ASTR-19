{
  "nbformat": 4,
  "nbformat_minor": 0,
  "metadata": {
    "colab": {
      "name": "cj-9.ipynb",
      "provenance": []
    },
    "kernelspec": {
      "name": "python3",
      "display_name": "Python 3"
    },
    "language_info": {
      "name": "python"
    }
  },
  "cells": [
    {
      "cell_type": "code",
      "execution_count": 41,
      "metadata": {
        "id": "SKsU8K5xCUkh"
      },
      "outputs": [],
      "source": [
        "import matplotlib\n",
        "import matplotlib.pyplot as plt\n",
        "import math\n",
        "import numpy"
      ]
    },
    {
      "cell_type": "code",
      "source": [
        "def getUniform():\n",
        "  x = []\n",
        "  for counter in range (0,100):\n",
        "    x.append(numpy.random.uniform(0.0,1.0))\n",
        "  return x"
      ],
      "metadata": {
        "id": "4ZPN2FlaE-n8"
      },
      "execution_count": 42,
      "outputs": []
    },
    {
      "cell_type": "code",
      "source": [
        "x = getUniform();\n",
        "\n",
        "plt.hist(x,1000)\n",
        "plt.xlabel(\"Bins\")\n",
        "plt.ylabel(\"Number of values\")\n",
        "\n",
        "plt.savefig(\"cj_9.pdf\")"
      ],
      "metadata": {
        "colab": {
          "base_uri": "https://localhost:8080/",
          "height": 279
        },
        "id": "EVjMR3nJFWMR",
        "outputId": "2751b222-9643-4c7c-87e7-6263ef246ade"
      },
      "execution_count": 43,
      "outputs": [
        {
          "output_type": "display_data",
          "data": {
            "text/plain": [
              "<Figure size 432x288 with 1 Axes>"
            ],
            "image/png": "[encoded data removed]"
          },
          "metadata": {
            "needs_background": "light"
          }
        }
      ]
    }
  ]
}